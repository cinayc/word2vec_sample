{
 "cells": [
  {
   "cell_type": "code",
   "execution_count": 24,
   "metadata": {
    "collapsed": true
   },
   "outputs": [],
   "source": [
    "import numpy as np"
   ]
  },
  {
   "cell_type": "code",
   "execution_count": 27,
   "metadata": {},
   "outputs": [],
   "source": [
    "vectors = np.array([[0.130746, 0.309203, 0.457567, 0.645221],\n",
    "                            [0.0178319, 0.448561, 0.479029, 0.860906],\n",
    "                            [-0.901462, 0.0169294, 0.440464, 0.0684007],\n",
    "                            [-0.0240213, 0.454003, 0.207199, 0.498046]])\n",
    "\n",
    "word_list = [\"the\", \"and\", \"of\", \"to\"]\n",
    "\n",
    "def l2_dist(word1_vector, word2_vector):\n",
    "    return np.sum(np.sqrt(np.square(word1_vector - word2_vector)))"
   ]
  },
  {
   "cell_type": "code",
   "execution_count": 30,
   "metadata": {},
   "outputs": [
    {
     "name": "stdout",
     "output_type": "stream",
     "text": [
      "[ 0.130746  0.309203  0.457567  0.645221]\n",
      "[-0.0240213  0.454003   0.207199   0.498046 ]\n",
      "[ 0.1547673 -0.1448     0.250368   0.147175 ]\n",
      "0.6971103\n"
     ]
    }
   ],
   "source": [
    "word1 = \"the\"\n",
    "word2 = \"to\"\n",
    "\n",
    "word1_vector = vectors[word_list.index(word1)]\n",
    "word2_vector = vectors[word_list.index(word2)]\n",
    "l2_distance = l2_dist(word1_vector, word2_vector)\n",
    "\n",
    "print(word1_vector)\n",
    "print(word2_vector)\n",
    "print((word1_vector - word2_vector))\n",
    "print(l2_distance)\n",
    "\n"
   ]
  },
  {
   "cell_type": "code",
   "execution_count": 31,
   "metadata": {},
   "outputs": [
    {
     "name": "stdout",
     "output_type": "stream",
     "text": [
      "[[ 0.130746   0.309203   0.457567   0.645221 ]\n",
      " [ 0.0178319  0.448561   0.479029   0.860906 ]\n",
      " [-0.901462   0.0169294  0.440464   0.0684007]\n",
      " [-0.0240213  0.454003   0.207199   0.498046 ]]\n"
     ]
    }
   ],
   "source": [
    "print(vectors)"
   ]
  },
  {
   "cell_type": "code",
   "execution_count": 32,
   "metadata": {},
   "outputs": [
    {
     "name": "stdout",
     "output_type": "stream",
     "text": [
      "0.130746\n"
     ]
    }
   ],
   "source": [
    "print(vectors[0][0])"
   ]
  },
  {
   "cell_type": "code",
   "execution_count": 33,
   "metadata": {},
   "outputs": [
    {
     "name": "stdout",
     "output_type": "stream",
     "text": [
      "1.0\n"
     ]
    }
   ],
   "source": [
    "vectors[0][0] = 1.0\n",
    "print(vectors[0][0])"
   ]
  },
  {
   "cell_type": "code",
   "execution_count": null,
   "metadata": {
    "collapsed": true
   },
   "outputs": [],
   "source": []
  }
 ],
 "metadata": {
  "kernelspec": {
   "display_name": "Python 3",
   "language": "python",
   "name": "python3"
  },
  "language_info": {
   "codemirror_mode": {
    "name": "ipython",
    "version": 3
   },
   "file_extension": ".py",
   "mimetype": "text/x-python",
   "name": "python",
   "nbconvert_exporter": "python",
   "pygments_lexer": "ipython3",
   "version": "3.6.2"
  }
 },
 "nbformat": 4,
 "nbformat_minor": 2
}
