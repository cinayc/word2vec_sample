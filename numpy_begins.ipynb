{
 "cells": [
  {
   "cell_type": "code",
   "execution_count": 16,
   "metadata": {
    "collapsed": true
   },
   "outputs": [],
   "source": [
    "import numpy as np"
   ]
  },
  {
   "cell_type": "code",
   "execution_count": 18,
   "metadata": {},
   "outputs": [
    {
     "name": "stdout",
     "output_type": "stream",
     "text": [
      "[[ 0.130746   0.309203   0.457567   0.645221 ]\n",
      " [ 0.0178319  0.448561   0.479029   0.860906 ]\n",
      " [-0.901462   0.0169294  0.440464   0.0684007]\n",
      " [-0.0240213  0.454003   0.207199   0.498046 ]]\n",
      "[ 0.130746  0.309203  0.457567  0.645221]\n",
      "['the', 'and', 'of', 'to']\n",
      "the\n"
     ]
    }
   ],
   "source": [
    "vectors = np.array([[0.130746, 0.309203, 0.457567, 0.645221],\n",
    "                            [0.0178319, 0.448561, 0.479029, 0.860906],\n",
    "                            [-0.901462, 0.0169294, 0.440464, 0.0684007],\n",
    "                            [-0.0240213, 0.454003, 0.207199, 0.498046]])\n",
    "word_list = [\"the\", \"and\", \"of\", \"to\"]\n",
    "\n",
    "print(vectors)\n",
    "print(vectors[0])\n",
    "\n",
    "print(word_list)\n",
    "\n",
    "print(word_list[0])"
   ]
  },
  {
   "cell_type": "code",
   "execution_count": 23,
   "metadata": {},
   "outputs": [
    {
     "name": "stdout",
     "output_type": "stream",
     "text": [
      "0\n",
      "[ 0.130746  0.309203  0.457567  0.645221]\n"
     ]
    }
   ],
   "source": [
    "word1 = 'the'\n",
    "word1_idx = word_list.index(word1)\n",
    "print(word1_idx)\n",
    "print(vectors[word1_idx])"
   ]
  },
  {
   "cell_type": "code",
   "execution_count": null,
   "metadata": {
    "collapsed": true
   },
   "outputs": [],
   "source": []
  }
 ],
 "metadata": {
  "kernelspec": {
   "display_name": "Python 3",
   "language": "python",
   "name": "python3"
  },
  "language_info": {
   "codemirror_mode": {
    "name": "ipython",
    "version": 3
   },
   "file_extension": ".py",
   "mimetype": "text/x-python",
   "name": "python",
   "nbconvert_exporter": "python",
   "pygments_lexer": "ipython3",
   "version": "3.6.2"
  }
 },
 "nbformat": 4,
 "nbformat_minor": 2
}
